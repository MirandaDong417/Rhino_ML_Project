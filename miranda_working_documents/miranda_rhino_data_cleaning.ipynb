{
 "cells": [
  {
   "cell_type": "code",
   "execution_count": 1,
   "metadata": {},
   "outputs": [],
   "source": [
    "import pandas as pd\n",
    "import numpy as np\n",
    "import matplotlib\n",
    "import matplotlib.pyplot as plt\n",
    "\n",
    "import warnings\n",
    "warnings.simplefilter(\"ignore\")\n",
    "%matplotlib inline\n",
    "\n",
    "matplotlib.rcParams['figure.figsize'] = [6, 6]"
   ]
  },
  {
   "cell_type": "code",
   "execution_count": 2,
   "metadata": {},
   "outputs": [],
   "source": [
    "# display all columns in preview\n",
    "pd.set_option('display.max_rows', 500)\n",
    "pd.set_option('display.max_columns', 500)\n",
    "pd.set_option('display.width', 1000)"
   ]
  },
  {
   "cell_type": "code",
   "execution_count": 3,
   "metadata": {},
   "outputs": [],
   "source": [
    "# load the dataset\n",
    "data = pd.read_csv(\"iXperience_dataset.csv\",sep = None)"
   ]
  },
  {
   "cell_type": "code",
   "execution_count": 4,
   "metadata": {},
   "outputs": [
    {
     "data": {
      "text/html": [
       "<div>\n",
       "<style scoped>\n",
       "    .dataframe tbody tr th:only-of-type {\n",
       "        vertical-align: middle;\n",
       "    }\n",
       "\n",
       "    .dataframe tbody tr th {\n",
       "        vertical-align: top;\n",
       "    }\n",
       "\n",
       "    .dataframe thead th {\n",
       "        text-align: right;\n",
       "    }\n",
       "</style>\n",
       "<table border=\"1\" class=\"dataframe\">\n",
       "  <thead>\n",
       "    <tr style=\"text-align: right;\">\n",
       "      <th></th>\n",
       "      <th>ID</th>\n",
       "      <th>Brand</th>\n",
       "      <th>Language</th>\n",
       "      <th>Website</th>\n",
       "      <th>created</th>\n",
       "      <th>Client email domain</th>\n",
       "      <th>Enquiry type</th>\n",
       "      <th>Enquiry status</th>\n",
       "      <th>Currency</th>\n",
       "      <th>Client budget</th>\n",
       "      <th>Arrival date</th>\n",
       "      <th>Arrival date text</th>\n",
       "      <th>Departure date</th>\n",
       "      <th>Num nights</th>\n",
       "      <th>Stay duration</th>\n",
       "      <th>Adults</th>\n",
       "      <th>Children</th>\n",
       "      <th>Flights booked</th>\n",
       "      <th>Residential country code</th>\n",
       "      <th>Detected country code</th>\n",
       "      <th>Detected city</th>\n",
       "      <th>Reviewed availability</th>\n",
       "      <th>Reviewed grade</th>\n",
       "      <th>Reviewed budget</th>\n",
       "      <th>Reviewed quality</th>\n",
       "      <th>Budget value</th>\n",
       "      <th>Click path</th>\n",
       "      <th>User agent</th>\n",
       "      <th>User repeat</th>\n",
       "      <th>User referral</th>\n",
       "      <th>Client last contact</th>\n",
       "      <th>Consultant last contact</th>\n",
       "      <th>First response time</th>\n",
       "      <th>Assignment response time</th>\n",
       "      <th>Has emails</th>\n",
       "      <th>Has calls</th>\n",
       "      <th>is open</th>\n",
       "      <th>is dead</th>\n",
       "      <th>Client email</th>\n",
       "      <th>Consultant email</th>\n",
       "      <th>Client calls</th>\n",
       "      <th>Consultant calls</th>\n",
       "      <th>Lead status</th>\n",
       "      <th>No response</th>\n",
       "      <th>No contact</th>\n",
       "      <th>GA source</th>\n",
       "      <th>GA medium</th>\n",
       "      <th>Device</th>\n",
       "      <th>GA keyword</th>\n",
       "      <th>GA campaign</th>\n",
       "      <th>GA language</th>\n",
       "      <th>GA country</th>\n",
       "      <th>Session duration</th>\n",
       "      <th>is booking</th>\n",
       "      <th>Last invoice date</th>\n",
       "      <th>Last travel date</th>\n",
       "      <th>Sales (excl vat)</th>\n",
       "      <th>GP %</th>\n",
       "      <th>Sessions</th>\n",
       "      <th>Avg. session length (sec)</th>\n",
       "      <th>Avg. pageviews per session</th>\n",
       "      <th>Pageviews</th>\n",
       "      <th>Hits</th>\n",
       "      <th>Status</th>\n",
       "      <th>Status Type</th>\n",
       "      <th>Enquiry open</th>\n",
       "      <th>Enquiry dead</th>\n",
       "      <th>Reason</th>\n",
       "      <th>Quality</th>\n",
       "    </tr>\n",
       "  </thead>\n",
       "  <tbody>\n",
       "    <tr>\n",
       "      <th>0</th>\n",
       "      <td>82983.0</td>\n",
       "      <td>Rhino Africa - English</td>\n",
       "      <td>English</td>\n",
       "      <td>Rhino Africa</td>\n",
       "      <td>2016-01-01 00:20:49</td>\n",
       "      <td>yahoo.com</td>\n",
       "      <td>Website</td>\n",
       "      <td>Assigned</td>\n",
       "      <td>NaN</td>\n",
       "      <td>Luxury</td>\n",
       "      <td>19 06 2016</td>\n",
       "      <td>NaN</td>\n",
       "      <td>NaN</td>\n",
       "      <td>NaN</td>\n",
       "      <td>12</td>\n",
       "      <td>4.0</td>\n",
       "      <td>0.0</td>\n",
       "      <td>0.0</td>\n",
       "      <td>NaN</td>\n",
       "      <td>US</td>\n",
       "      <td>Shrewsbury</td>\n",
       "      <td>NaN</td>\n",
       "      <td>Package</td>\n",
       "      <td>NaN</td>\n",
       "      <td>NaN</td>\n",
       "      <td>NaN</td>\n",
       "      <td>NaN</td>\n",
       "      <td>0.0</td>\n",
       "      <td>0.0</td>\n",
       "      <td>0.0</td>\n",
       "      <td>NaN</td>\n",
       "      <td>NaN</td>\n",
       "      <td>NaN</td>\n",
       "      <td>NaN</td>\n",
       "      <td>NaN</td>\n",
       "      <td>NaN</td>\n",
       "      <td>NaN</td>\n",
       "      <td>NaN</td>\n",
       "      <td>NaN</td>\n",
       "      <td>NaN</td>\n",
       "      <td>NaN</td>\n",
       "      <td>NaN</td>\n",
       "      <td>NaN</td>\n",
       "      <td>NaN</td>\n",
       "      <td>NaN</td>\n",
       "      <td>google</td>\n",
       "      <td>organic</td>\n",
       "      <td>tablet</td>\n",
       "      <td>(not provided)</td>\n",
       "      <td>(not set)</td>\n",
       "      <td>en-us</td>\n",
       "      <td>United States</td>\n",
       "      <td>354.0</td>\n",
       "      <td>0.0</td>\n",
       "      <td>NaN</td>\n",
       "      <td>NaN</td>\n",
       "      <td>0.00000</td>\n",
       "      <td>NaN</td>\n",
       "      <td>1.0</td>\n",
       "      <td>354.0</td>\n",
       "      <td>3.0</td>\n",
       "      <td>3.0</td>\n",
       "      <td>1.0</td>\n",
       "      <td>NaN</td>\n",
       "      <td>NaN</td>\n",
       "      <td>NaN</td>\n",
       "      <td>NaN</td>\n",
       "      <td>NaN</td>\n",
       "      <td>NaN</td>\n",
       "    </tr>\n",
       "    <tr>\n",
       "      <th>1</th>\n",
       "      <td>82984.0</td>\n",
       "      <td>Rhino Africa - English</td>\n",
       "      <td>English</td>\n",
       "      <td>Rhino Africa</td>\n",
       "      <td>2016-01-01 00:55:12</td>\n",
       "      <td>att.net</td>\n",
       "      <td>Website</td>\n",
       "      <td>Assigned</td>\n",
       "      <td>NaN</td>\n",
       "      <td>Standard</td>\n",
       "      <td>03 04 2016</td>\n",
       "      <td>NaN</td>\n",
       "      <td>NaN</td>\n",
       "      <td>NaN</td>\n",
       "      <td>6</td>\n",
       "      <td>2.0</td>\n",
       "      <td>0.0</td>\n",
       "      <td>1.0</td>\n",
       "      <td>NaN</td>\n",
       "      <td>US</td>\n",
       "      <td>Stratford</td>\n",
       "      <td>NaN</td>\n",
       "      <td>Short Package</td>\n",
       "      <td>NaN</td>\n",
       "      <td>NaN</td>\n",
       "      <td>NaN</td>\n",
       "      <td>NaN</td>\n",
       "      <td>0.0</td>\n",
       "      <td>0.0</td>\n",
       "      <td>0.0</td>\n",
       "      <td>NaN</td>\n",
       "      <td>NaN</td>\n",
       "      <td>NaN</td>\n",
       "      <td>NaN</td>\n",
       "      <td>NaN</td>\n",
       "      <td>NaN</td>\n",
       "      <td>NaN</td>\n",
       "      <td>NaN</td>\n",
       "      <td>NaN</td>\n",
       "      <td>NaN</td>\n",
       "      <td>NaN</td>\n",
       "      <td>NaN</td>\n",
       "      <td>NaN</td>\n",
       "      <td>NaN</td>\n",
       "      <td>NaN</td>\n",
       "      <td>(direct)</td>\n",
       "      <td>(none)</td>\n",
       "      <td>desktop</td>\n",
       "      <td>(not set)</td>\n",
       "      <td>(not set)</td>\n",
       "      <td>en-us</td>\n",
       "      <td>United States</td>\n",
       "      <td>1793.0</td>\n",
       "      <td>1.0</td>\n",
       "      <td>07 03 2017</td>\n",
       "      <td>06 11 2017</td>\n",
       "      <td>20621.66778</td>\n",
       "      <td>0.232503</td>\n",
       "      <td>1.0</td>\n",
       "      <td>1793.0</td>\n",
       "      <td>20.0</td>\n",
       "      <td>20.0</td>\n",
       "      <td>1.0</td>\n",
       "      <td>NaN</td>\n",
       "      <td>NaN</td>\n",
       "      <td>NaN</td>\n",
       "      <td>NaN</td>\n",
       "      <td>NaN</td>\n",
       "      <td>NaN</td>\n",
       "    </tr>\n",
       "    <tr>\n",
       "      <th>2</th>\n",
       "      <td>82985.0</td>\n",
       "      <td>Rhino Africa - English</td>\n",
       "      <td>English</td>\n",
       "      <td>Rhino Africa</td>\n",
       "      <td>2016-01-01 04:15:47</td>\n",
       "      <td>sunlife.com</td>\n",
       "      <td>Website</td>\n",
       "      <td>Assigned</td>\n",
       "      <td>NaN</td>\n",
       "      <td>Luxury</td>\n",
       "      <td>22 07 2016</td>\n",
       "      <td>NaN</td>\n",
       "      <td>NaN</td>\n",
       "      <td>NaN</td>\n",
       "      <td>15</td>\n",
       "      <td>2.0</td>\n",
       "      <td>0.0</td>\n",
       "      <td>0.0</td>\n",
       "      <td>NaN</td>\n",
       "      <td>NaN</td>\n",
       "      <td>NaN</td>\n",
       "      <td>NaN</td>\n",
       "      <td>Package</td>\n",
       "      <td>NaN</td>\n",
       "      <td>NaN</td>\n",
       "      <td>NaN</td>\n",
       "      <td>NaN</td>\n",
       "      <td>0.0</td>\n",
       "      <td>0.0</td>\n",
       "      <td>0.0</td>\n",
       "      <td>NaN</td>\n",
       "      <td>NaN</td>\n",
       "      <td>NaN</td>\n",
       "      <td>NaN</td>\n",
       "      <td>NaN</td>\n",
       "      <td>NaN</td>\n",
       "      <td>NaN</td>\n",
       "      <td>NaN</td>\n",
       "      <td>NaN</td>\n",
       "      <td>NaN</td>\n",
       "      <td>NaN</td>\n",
       "      <td>NaN</td>\n",
       "      <td>NaN</td>\n",
       "      <td>NaN</td>\n",
       "      <td>NaN</td>\n",
       "      <td>(direct)</td>\n",
       "      <td>(none)</td>\n",
       "      <td>desktop</td>\n",
       "      <td>(not set)</td>\n",
       "      <td>(not set)</td>\n",
       "      <td>en-us</td>\n",
       "      <td>Canada</td>\n",
       "      <td>1867.0</td>\n",
       "      <td>0.0</td>\n",
       "      <td>NaN</td>\n",
       "      <td>NaN</td>\n",
       "      <td>0.00000</td>\n",
       "      <td>NaN</td>\n",
       "      <td>1.0</td>\n",
       "      <td>1867.0</td>\n",
       "      <td>31.0</td>\n",
       "      <td>31.0</td>\n",
       "      <td>1.0</td>\n",
       "      <td>NaN</td>\n",
       "      <td>NaN</td>\n",
       "      <td>NaN</td>\n",
       "      <td>NaN</td>\n",
       "      <td>NaN</td>\n",
       "      <td>NaN</td>\n",
       "    </tr>\n",
       "    <tr>\n",
       "      <th>3</th>\n",
       "      <td>20854.0</td>\n",
       "      <td>Londolozi - English</td>\n",
       "      <td>English</td>\n",
       "      <td>Londolozi</td>\n",
       "      <td>2016-01-01 05:27:56</td>\n",
       "      <td>gmail.com</td>\n",
       "      <td>Website</td>\n",
       "      <td>Assigned</td>\n",
       "      <td>NaN</td>\n",
       "      <td>NaN</td>\n",
       "      <td>18 07 2016</td>\n",
       "      <td>NaN</td>\n",
       "      <td>NaN</td>\n",
       "      <td>NaN</td>\n",
       "      <td>3-4 nights</td>\n",
       "      <td>2.0</td>\n",
       "      <td>2.0</td>\n",
       "      <td>NaN</td>\n",
       "      <td>NaN</td>\n",
       "      <td>PH</td>\n",
       "      <td>Calamba</td>\n",
       "      <td>NaN</td>\n",
       "      <td>NaN</td>\n",
       "      <td>NaN</td>\n",
       "      <td>NaN</td>\n",
       "      <td>NaN</td>\n",
       "      <td>NaN</td>\n",
       "      <td>0.0</td>\n",
       "      <td>0.0</td>\n",
       "      <td>0.0</td>\n",
       "      <td>NaN</td>\n",
       "      <td>NaN</td>\n",
       "      <td>NaN</td>\n",
       "      <td>NaN</td>\n",
       "      <td>NaN</td>\n",
       "      <td>NaN</td>\n",
       "      <td>NaN</td>\n",
       "      <td>NaN</td>\n",
       "      <td>NaN</td>\n",
       "      <td>NaN</td>\n",
       "      <td>NaN</td>\n",
       "      <td>NaN</td>\n",
       "      <td>NaN</td>\n",
       "      <td>NaN</td>\n",
       "      <td>NaN</td>\n",
       "      <td>google</td>\n",
       "      <td>cpc</td>\n",
       "      <td>desktop</td>\n",
       "      <td>www.londolozi.com</td>\n",
       "      <td>[a:LON][c:GBR][l:EN][n:GSN][g:Brand][t:www]</td>\n",
       "      <td>en-us</td>\n",
       "      <td>United Kingdom</td>\n",
       "      <td>293.0</td>\n",
       "      <td>1.0</td>\n",
       "      <td>24 03 2017</td>\n",
       "      <td>01 11 2017</td>\n",
       "      <td>35799.28158</td>\n",
       "      <td>0.221695</td>\n",
       "      <td>1.0</td>\n",
       "      <td>283.0</td>\n",
       "      <td>6.0</td>\n",
       "      <td>6.0</td>\n",
       "      <td>1.0</td>\n",
       "      <td>NaN</td>\n",
       "      <td>NaN</td>\n",
       "      <td>NaN</td>\n",
       "      <td>NaN</td>\n",
       "      <td>NaN</td>\n",
       "      <td>NaN</td>\n",
       "    </tr>\n",
       "    <tr>\n",
       "      <th>4</th>\n",
       "      <td>20855.0</td>\n",
       "      <td>Londolozi - English</td>\n",
       "      <td>English</td>\n",
       "      <td>Londolozi</td>\n",
       "      <td>2016-01-01 05:27:56</td>\n",
       "      <td>gmail.com</td>\n",
       "      <td>Website</td>\n",
       "      <td>Assigned</td>\n",
       "      <td>NaN</td>\n",
       "      <td>NaN</td>\n",
       "      <td>18 07 2016</td>\n",
       "      <td>NaN</td>\n",
       "      <td>NaN</td>\n",
       "      <td>NaN</td>\n",
       "      <td>3-4 nights</td>\n",
       "      <td>2.0</td>\n",
       "      <td>2.0</td>\n",
       "      <td>NaN</td>\n",
       "      <td>NaN</td>\n",
       "      <td>PH</td>\n",
       "      <td>Calamba</td>\n",
       "      <td>NaN</td>\n",
       "      <td>NaN</td>\n",
       "      <td>NaN</td>\n",
       "      <td>NaN</td>\n",
       "      <td>NaN</td>\n",
       "      <td>NaN</td>\n",
       "      <td>0.0</td>\n",
       "      <td>0.0</td>\n",
       "      <td>0.0</td>\n",
       "      <td>NaN</td>\n",
       "      <td>NaN</td>\n",
       "      <td>NaN</td>\n",
       "      <td>NaN</td>\n",
       "      <td>NaN</td>\n",
       "      <td>NaN</td>\n",
       "      <td>NaN</td>\n",
       "      <td>NaN</td>\n",
       "      <td>NaN</td>\n",
       "      <td>NaN</td>\n",
       "      <td>NaN</td>\n",
       "      <td>NaN</td>\n",
       "      <td>NaN</td>\n",
       "      <td>NaN</td>\n",
       "      <td>NaN</td>\n",
       "      <td>google</td>\n",
       "      <td>organic</td>\n",
       "      <td>desktop</td>\n",
       "      <td>(not provided)</td>\n",
       "      <td>(not set)</td>\n",
       "      <td>en-us</td>\n",
       "      <td>United States</td>\n",
       "      <td>2858.0</td>\n",
       "      <td>1.0</td>\n",
       "      <td>03 04 2017</td>\n",
       "      <td>12 05 2017</td>\n",
       "      <td>13996.70640</td>\n",
       "      <td>0.227259</td>\n",
       "      <td>1.0</td>\n",
       "      <td>283.0</td>\n",
       "      <td>6.0</td>\n",
       "      <td>6.0</td>\n",
       "      <td>1.0</td>\n",
       "      <td>NaN</td>\n",
       "      <td>NaN</td>\n",
       "      <td>NaN</td>\n",
       "      <td>NaN</td>\n",
       "      <td>NaN</td>\n",
       "      <td>NaN</td>\n",
       "    </tr>\n",
       "  </tbody>\n",
       "</table>\n",
       "</div>"
      ],
      "text/plain": [
       "        ID                   Brand Language       Website              created Client email domain Enquiry type Enquiry status Currency Client budget Arrival date Arrival date text Departure date  Num nights Stay duration  Adults  Children  Flights booked Residential country code Detected country code Detected city Reviewed availability Reviewed grade Reviewed budget  Reviewed quality Budget value Click path  User agent  User repeat  User referral Client last contact Consultant last contact  First response time  Assignment response time  Has emails  Has calls  is open  is dead  Client email  Consultant email  Client calls  Consultant calls Lead status  No response  No contact GA source GA medium   Device         GA keyword                                  GA campaign GA language      GA country  Session duration  is booking Last invoice date Last travel date  Sales (excl vat)      GP %  Sessions  Avg. session length (sec)  Avg. pageviews per session  Pageviews  Hits Status  \\\n",
       "0  82983.0  Rhino Africa - English  English  Rhino Africa  2016-01-01 00:20:49           yahoo.com      Website       Assigned      NaN        Luxury   19 06 2016               NaN            NaN         NaN            12     4.0       0.0             0.0                      NaN                    US    Shrewsbury                   NaN        Package             NaN               NaN          NaN        NaN         0.0          0.0            0.0                 NaN                     NaN                  NaN                       NaN         NaN        NaN      NaN      NaN           NaN               NaN           NaN               NaN         NaN          NaN         NaN    google   organic   tablet     (not provided)                                    (not set)       en-us   United States             354.0         0.0               NaN              NaN           0.00000       NaN       1.0                      354.0                         3.0        3.0   1.0    NaN   \n",
       "1  82984.0  Rhino Africa - English  English  Rhino Africa  2016-01-01 00:55:12             att.net      Website       Assigned      NaN      Standard   03 04 2016               NaN            NaN         NaN             6     2.0       0.0             1.0                      NaN                    US     Stratford                   NaN  Short Package             NaN               NaN          NaN        NaN         0.0          0.0            0.0                 NaN                     NaN                  NaN                       NaN         NaN        NaN      NaN      NaN           NaN               NaN           NaN               NaN         NaN          NaN         NaN  (direct)    (none)  desktop          (not set)                                    (not set)       en-us   United States            1793.0         1.0        07 03 2017       06 11 2017       20621.66778  0.232503       1.0                     1793.0                        20.0       20.0   1.0    NaN   \n",
       "2  82985.0  Rhino Africa - English  English  Rhino Africa  2016-01-01 04:15:47         sunlife.com      Website       Assigned      NaN        Luxury   22 07 2016               NaN            NaN         NaN            15     2.0       0.0             0.0                      NaN                   NaN           NaN                   NaN        Package             NaN               NaN          NaN        NaN         0.0          0.0            0.0                 NaN                     NaN                  NaN                       NaN         NaN        NaN      NaN      NaN           NaN               NaN           NaN               NaN         NaN          NaN         NaN  (direct)    (none)  desktop          (not set)                                    (not set)       en-us          Canada            1867.0         0.0               NaN              NaN           0.00000       NaN       1.0                     1867.0                        31.0       31.0   1.0    NaN   \n",
       "3  20854.0     Londolozi - English  English     Londolozi  2016-01-01 05:27:56           gmail.com      Website       Assigned      NaN           NaN   18 07 2016               NaN            NaN         NaN    3-4 nights     2.0       2.0             NaN                      NaN                    PH       Calamba                   NaN            NaN             NaN               NaN          NaN        NaN         0.0          0.0            0.0                 NaN                     NaN                  NaN                       NaN         NaN        NaN      NaN      NaN           NaN               NaN           NaN               NaN         NaN          NaN         NaN    google       cpc  desktop  www.londolozi.com  [a:LON][c:GBR][l:EN][n:GSN][g:Brand][t:www]       en-us  United Kingdom             293.0         1.0        24 03 2017       01 11 2017       35799.28158  0.221695       1.0                      283.0                         6.0        6.0   1.0    NaN   \n",
       "4  20855.0     Londolozi - English  English     Londolozi  2016-01-01 05:27:56           gmail.com      Website       Assigned      NaN           NaN   18 07 2016               NaN            NaN         NaN    3-4 nights     2.0       2.0             NaN                      NaN                    PH       Calamba                   NaN            NaN             NaN               NaN          NaN        NaN         0.0          0.0            0.0                 NaN                     NaN                  NaN                       NaN         NaN        NaN      NaN      NaN           NaN               NaN           NaN               NaN         NaN          NaN         NaN    google   organic  desktop     (not provided)                                    (not set)       en-us   United States            2858.0         1.0        03 04 2017       12 05 2017       13996.70640  0.227259       1.0                      283.0                         6.0        6.0   1.0    NaN   \n",
       "\n",
       "  Status Type  Enquiry open  Enquiry dead Reason Quality  \n",
       "0         NaN           NaN           NaN    NaN     NaN  \n",
       "1         NaN           NaN           NaN    NaN     NaN  \n",
       "2         NaN           NaN           NaN    NaN     NaN  \n",
       "3         NaN           NaN           NaN    NaN     NaN  \n",
       "4         NaN           NaN           NaN    NaN     NaN  "
      ]
     },
     "execution_count": 4,
     "metadata": {},
     "output_type": "execute_result"
    }
   ],
   "source": [
    "data.head()"
   ]
  },
  {
   "cell_type": "code",
   "execution_count": 5,
   "metadata": {},
   "outputs": [
    {
     "data": {
      "text/plain": [
       "(112333, 69)"
      ]
     },
     "execution_count": 5,
     "metadata": {},
     "output_type": "execute_result"
    }
   ],
   "source": [
    "data.shape"
   ]
  },
  {
   "cell_type": "markdown",
   "metadata": {},
   "source": [
    "## Data Cleaning & Processing"
   ]
  },
  {
   "cell_type": "code",
   "execution_count": 6,
   "metadata": {},
   "outputs": [
    {
     "data": {
      "text/plain": [
       "0"
      ]
     },
     "execution_count": 6,
     "metadata": {},
     "output_type": "execute_result"
    }
   ],
   "source": [
    "# check duplicates\n",
    "data.duplicated().sum()"
   ]
  },
  {
   "cell_type": "code",
   "execution_count": 7,
   "metadata": {},
   "outputs": [],
   "source": [
    "# sex index as ID \n",
    "data = data.set_index('ID')"
   ]
  },
  {
   "cell_type": "code",
   "execution_count": 8,
   "metadata": {},
   "outputs": [],
   "source": [
    "# last row is meaningless (only NaN and 0)\n",
    "# drop last row\n",
    "data = data.iloc[:-1]"
   ]
  },
  {
   "cell_type": "code",
   "execution_count": 9,
   "metadata": {},
   "outputs": [
    {
     "data": {
      "text/plain": [
       "(111716, 68)"
      ]
     },
     "execution_count": 9,
     "metadata": {},
     "output_type": "execute_result"
    }
   ],
   "source": [
    "# Since our target variable is column \"is booking\", we need to drop the rows where \"is booking\" is null.\n",
    "data = data.dropna(subset = ['is booking'])\n",
    "data.shape"
   ]
  },
  {
   "cell_type": "code",
   "execution_count": 10,
   "metadata": {},
   "outputs": [
    {
     "data": {
      "text/plain": [
       "Index(['Brand', 'Language', 'Website', 'created', 'Client email domain', 'Enquiry type', 'Enquiry status', 'Currency', 'Client budget', 'Arrival date', 'Arrival date text', 'Departure date', 'Num nights', 'Stay duration', 'Adults', 'Children', 'Flights booked', 'Residential country code', 'Detected country code', 'Detected city', 'Reviewed availability', 'Reviewed grade', 'Reviewed budget', 'Reviewed quality', 'Budget value', 'Click path', 'User agent', 'User repeat', 'User referral', 'Client last contact', 'Consultant last contact', 'First response time', 'Assignment response time', 'Has emails', 'Has calls', 'is open', 'is dead', 'Client email', 'Consultant email', 'Client calls', 'Consultant calls', 'Lead status', 'No response', 'No contact', 'GA source', 'GA medium', 'Device', ' GA keyword', 'GA campaign', 'GA language', 'GA country', 'Session duration', 'is booking', 'Last invoice date', 'Last travel date', 'Sales (excl vat)', 'GP %', 'Sessions', 'Avg. session length (sec)',\n",
       "       'Avg. pageviews per session', 'Pageviews', 'Hits', 'Status', 'Status Type', 'Enquiry open', 'Enquiry dead', 'Reason', 'Quality'],\n",
       "      dtype='object')"
      ]
     },
     "execution_count": 10,
     "metadata": {},
     "output_type": "execute_result"
    }
   ],
   "source": [
    "data.columns"
   ]
  },
  {
   "cell_type": "code",
   "execution_count": 11,
   "metadata": {},
   "outputs": [],
   "source": [
    "data.columns = data.columns.str.strip()"
   ]
  },
  {
   "cell_type": "code",
   "execution_count": 12,
   "metadata": {},
   "outputs": [
    {
     "data": {
      "text/plain": [
       "(111716, 38)"
      ]
     },
     "execution_count": 12,
     "metadata": {},
     "output_type": "execute_result"
    }
   ],
   "source": [
    "# The goal is to build a model that can predict lead scores at the time the enquiry is submitted. \n",
    "# Therefore, columns that produced after the submission of enquiry should not be used for model building. \n",
    "\n",
    "df = data[['Language',\n",
    " 'Website',\n",
    " 'created',\n",
    " 'Client email domain',\n",
    " 'Enquiry type',\n",
    " 'Enquiry status',\n",
    " 'Currency',\n",
    " 'Client budget',\n",
    " 'Arrival date',\n",
    " 'Arrival date text',\n",
    " 'Departure date',\n",
    " 'Num nights',\n",
    " 'Stay duration',\n",
    " 'Adults',\n",
    " 'Children',\n",
    " 'Flights booked',\n",
    " 'Residential country code',\n",
    " 'Detected country code',\n",
    " 'Detected city',\n",
    " 'Budget value',\n",
    " 'Click path',\n",
    " 'User agent',\n",
    " 'User repeat',\n",
    " 'User referral',\n",
    " 'GA source',\n",
    " 'GA medium',\n",
    " 'Device',\n",
    " 'GA keyword',\n",
    " 'GA campaign',\n",
    " 'GA language',\n",
    " 'GA country',\n",
    " 'Session duration',\n",
    " 'is booking',\n",
    " 'Sessions',\n",
    " 'Avg. session length (sec)',\n",
    " 'Avg. pageviews per session',\n",
    " 'Pageviews',\n",
    " 'Hits']]\n",
    "\n",
    "df.shape"
   ]
  },
  {
   "cell_type": "code",
   "execution_count": 13,
   "metadata": {},
   "outputs": [
    {
     "data": {
      "text/html": [
       "<div>\n",
       "<style scoped>\n",
       "    .dataframe tbody tr th:only-of-type {\n",
       "        vertical-align: middle;\n",
       "    }\n",
       "\n",
       "    .dataframe tbody tr th {\n",
       "        vertical-align: top;\n",
       "    }\n",
       "\n",
       "    .dataframe thead th {\n",
       "        text-align: right;\n",
       "    }\n",
       "</style>\n",
       "<table border=\"1\" class=\"dataframe\">\n",
       "  <thead>\n",
       "    <tr style=\"text-align: right;\">\n",
       "      <th></th>\n",
       "      <th>Language</th>\n",
       "      <th>Website</th>\n",
       "      <th>created</th>\n",
       "      <th>Client email domain</th>\n",
       "      <th>Enquiry type</th>\n",
       "      <th>Enquiry status</th>\n",
       "      <th>Currency</th>\n",
       "      <th>Client budget</th>\n",
       "      <th>Arrival date</th>\n",
       "      <th>Arrival date text</th>\n",
       "      <th>Departure date</th>\n",
       "      <th>Num nights</th>\n",
       "      <th>Stay duration</th>\n",
       "      <th>Adults</th>\n",
       "      <th>Children</th>\n",
       "      <th>Flights booked</th>\n",
       "      <th>Residential country code</th>\n",
       "      <th>Detected country code</th>\n",
       "      <th>Detected city</th>\n",
       "      <th>Budget value</th>\n",
       "      <th>Click path</th>\n",
       "      <th>User agent</th>\n",
       "      <th>User repeat</th>\n",
       "      <th>User referral</th>\n",
       "      <th>GA source</th>\n",
       "      <th>GA medium</th>\n",
       "      <th>Device</th>\n",
       "      <th>GA keyword</th>\n",
       "      <th>GA campaign</th>\n",
       "      <th>GA language</th>\n",
       "      <th>GA country</th>\n",
       "      <th>Session duration</th>\n",
       "      <th>is booking</th>\n",
       "      <th>Sessions</th>\n",
       "      <th>Avg. session length (sec)</th>\n",
       "      <th>Avg. pageviews per session</th>\n",
       "      <th>Pageviews</th>\n",
       "      <th>Hits</th>\n",
       "    </tr>\n",
       "    <tr>\n",
       "      <th>ID</th>\n",
       "      <th></th>\n",
       "      <th></th>\n",
       "      <th></th>\n",
       "      <th></th>\n",
       "      <th></th>\n",
       "      <th></th>\n",
       "      <th></th>\n",
       "      <th></th>\n",
       "      <th></th>\n",
       "      <th></th>\n",
       "      <th></th>\n",
       "      <th></th>\n",
       "      <th></th>\n",
       "      <th></th>\n",
       "      <th></th>\n",
       "      <th></th>\n",
       "      <th></th>\n",
       "      <th></th>\n",
       "      <th></th>\n",
       "      <th></th>\n",
       "      <th></th>\n",
       "      <th></th>\n",
       "      <th></th>\n",
       "      <th></th>\n",
       "      <th></th>\n",
       "      <th></th>\n",
       "      <th></th>\n",
       "      <th></th>\n",
       "      <th></th>\n",
       "      <th></th>\n",
       "      <th></th>\n",
       "      <th></th>\n",
       "      <th></th>\n",
       "      <th></th>\n",
       "      <th></th>\n",
       "      <th></th>\n",
       "      <th></th>\n",
       "      <th></th>\n",
       "    </tr>\n",
       "  </thead>\n",
       "  <tbody>\n",
       "    <tr>\n",
       "      <th>82983.0</th>\n",
       "      <td>English</td>\n",
       "      <td>Rhino Africa</td>\n",
       "      <td>2016-01-01 00:20:49</td>\n",
       "      <td>yahoo.com</td>\n",
       "      <td>Website</td>\n",
       "      <td>Assigned</td>\n",
       "      <td>NaN</td>\n",
       "      <td>Luxury</td>\n",
       "      <td>19 06 2016</td>\n",
       "      <td>NaN</td>\n",
       "      <td>NaN</td>\n",
       "      <td>NaN</td>\n",
       "      <td>12</td>\n",
       "      <td>4.0</td>\n",
       "      <td>0.0</td>\n",
       "      <td>0.0</td>\n",
       "      <td>NaN</td>\n",
       "      <td>US</td>\n",
       "      <td>Shrewsbury</td>\n",
       "      <td>NaN</td>\n",
       "      <td>NaN</td>\n",
       "      <td>0.0</td>\n",
       "      <td>0.0</td>\n",
       "      <td>0.0</td>\n",
       "      <td>google</td>\n",
       "      <td>organic</td>\n",
       "      <td>tablet</td>\n",
       "      <td>(not provided)</td>\n",
       "      <td>(not set)</td>\n",
       "      <td>en-us</td>\n",
       "      <td>United States</td>\n",
       "      <td>354.0</td>\n",
       "      <td>0.0</td>\n",
       "      <td>1.0</td>\n",
       "      <td>354.0</td>\n",
       "      <td>3.0</td>\n",
       "      <td>3.0</td>\n",
       "      <td>1.0</td>\n",
       "    </tr>\n",
       "    <tr>\n",
       "      <th>82984.0</th>\n",
       "      <td>English</td>\n",
       "      <td>Rhino Africa</td>\n",
       "      <td>2016-01-01 00:55:12</td>\n",
       "      <td>att.net</td>\n",
       "      <td>Website</td>\n",
       "      <td>Assigned</td>\n",
       "      <td>NaN</td>\n",
       "      <td>Standard</td>\n",
       "      <td>03 04 2016</td>\n",
       "      <td>NaN</td>\n",
       "      <td>NaN</td>\n",
       "      <td>NaN</td>\n",
       "      <td>6</td>\n",
       "      <td>2.0</td>\n",
       "      <td>0.0</td>\n",
       "      <td>1.0</td>\n",
       "      <td>NaN</td>\n",
       "      <td>US</td>\n",
       "      <td>Stratford</td>\n",
       "      <td>NaN</td>\n",
       "      <td>NaN</td>\n",
       "      <td>0.0</td>\n",
       "      <td>0.0</td>\n",
       "      <td>0.0</td>\n",
       "      <td>(direct)</td>\n",
       "      <td>(none)</td>\n",
       "      <td>desktop</td>\n",
       "      <td>(not set)</td>\n",
       "      <td>(not set)</td>\n",
       "      <td>en-us</td>\n",
       "      <td>United States</td>\n",
       "      <td>1793.0</td>\n",
       "      <td>1.0</td>\n",
       "      <td>1.0</td>\n",
       "      <td>1793.0</td>\n",
       "      <td>20.0</td>\n",
       "      <td>20.0</td>\n",
       "      <td>1.0</td>\n",
       "    </tr>\n",
       "    <tr>\n",
       "      <th>82985.0</th>\n",
       "      <td>English</td>\n",
       "      <td>Rhino Africa</td>\n",
       "      <td>2016-01-01 04:15:47</td>\n",
       "      <td>sunlife.com</td>\n",
       "      <td>Website</td>\n",
       "      <td>Assigned</td>\n",
       "      <td>NaN</td>\n",
       "      <td>Luxury</td>\n",
       "      <td>22 07 2016</td>\n",
       "      <td>NaN</td>\n",
       "      <td>NaN</td>\n",
       "      <td>NaN</td>\n",
       "      <td>15</td>\n",
       "      <td>2.0</td>\n",
       "      <td>0.0</td>\n",
       "      <td>0.0</td>\n",
       "      <td>NaN</td>\n",
       "      <td>NaN</td>\n",
       "      <td>NaN</td>\n",
       "      <td>NaN</td>\n",
       "      <td>NaN</td>\n",
       "      <td>0.0</td>\n",
       "      <td>0.0</td>\n",
       "      <td>0.0</td>\n",
       "      <td>(direct)</td>\n",
       "      <td>(none)</td>\n",
       "      <td>desktop</td>\n",
       "      <td>(not set)</td>\n",
       "      <td>(not set)</td>\n",
       "      <td>en-us</td>\n",
       "      <td>Canada</td>\n",
       "      <td>1867.0</td>\n",
       "      <td>0.0</td>\n",
       "      <td>1.0</td>\n",
       "      <td>1867.0</td>\n",
       "      <td>31.0</td>\n",
       "      <td>31.0</td>\n",
       "      <td>1.0</td>\n",
       "    </tr>\n",
       "    <tr>\n",
       "      <th>20854.0</th>\n",
       "      <td>English</td>\n",
       "      <td>Londolozi</td>\n",
       "      <td>2016-01-01 05:27:56</td>\n",
       "      <td>gmail.com</td>\n",
       "      <td>Website</td>\n",
       "      <td>Assigned</td>\n",
       "      <td>NaN</td>\n",
       "      <td>NaN</td>\n",
       "      <td>18 07 2016</td>\n",
       "      <td>NaN</td>\n",
       "      <td>NaN</td>\n",
       "      <td>NaN</td>\n",
       "      <td>3-4 nights</td>\n",
       "      <td>2.0</td>\n",
       "      <td>2.0</td>\n",
       "      <td>NaN</td>\n",
       "      <td>NaN</td>\n",
       "      <td>PH</td>\n",
       "      <td>Calamba</td>\n",
       "      <td>NaN</td>\n",
       "      <td>NaN</td>\n",
       "      <td>0.0</td>\n",
       "      <td>0.0</td>\n",
       "      <td>0.0</td>\n",
       "      <td>google</td>\n",
       "      <td>cpc</td>\n",
       "      <td>desktop</td>\n",
       "      <td>www.londolozi.com</td>\n",
       "      <td>[a:LON][c:GBR][l:EN][n:GSN][g:Brand][t:www]</td>\n",
       "      <td>en-us</td>\n",
       "      <td>United Kingdom</td>\n",
       "      <td>293.0</td>\n",
       "      <td>1.0</td>\n",
       "      <td>1.0</td>\n",
       "      <td>283.0</td>\n",
       "      <td>6.0</td>\n",
       "      <td>6.0</td>\n",
       "      <td>1.0</td>\n",
       "    </tr>\n",
       "    <tr>\n",
       "      <th>20855.0</th>\n",
       "      <td>English</td>\n",
       "      <td>Londolozi</td>\n",
       "      <td>2016-01-01 05:27:56</td>\n",
       "      <td>gmail.com</td>\n",
       "      <td>Website</td>\n",
       "      <td>Assigned</td>\n",
       "      <td>NaN</td>\n",
       "      <td>NaN</td>\n",
       "      <td>18 07 2016</td>\n",
       "      <td>NaN</td>\n",
       "      <td>NaN</td>\n",
       "      <td>NaN</td>\n",
       "      <td>3-4 nights</td>\n",
       "      <td>2.0</td>\n",
       "      <td>2.0</td>\n",
       "      <td>NaN</td>\n",
       "      <td>NaN</td>\n",
       "      <td>PH</td>\n",
       "      <td>Calamba</td>\n",
       "      <td>NaN</td>\n",
       "      <td>NaN</td>\n",
       "      <td>0.0</td>\n",
       "      <td>0.0</td>\n",
       "      <td>0.0</td>\n",
       "      <td>google</td>\n",
       "      <td>organic</td>\n",
       "      <td>desktop</td>\n",
       "      <td>(not provided)</td>\n",
       "      <td>(not set)</td>\n",
       "      <td>en-us</td>\n",
       "      <td>United States</td>\n",
       "      <td>2858.0</td>\n",
       "      <td>1.0</td>\n",
       "      <td>1.0</td>\n",
       "      <td>283.0</td>\n",
       "      <td>6.0</td>\n",
       "      <td>6.0</td>\n",
       "      <td>1.0</td>\n",
       "    </tr>\n",
       "  </tbody>\n",
       "</table>\n",
       "</div>"
      ],
      "text/plain": [
       "        Language       Website              created Client email domain Enquiry type Enquiry status Currency Client budget Arrival date Arrival date text Departure date  Num nights Stay duration  Adults  Children  Flights booked Residential country code Detected country code Detected city Budget value Click path  User agent  User repeat  User referral GA source GA medium   Device         GA keyword                                  GA campaign GA language      GA country  Session duration  is booking  Sessions  Avg. session length (sec)  Avg. pageviews per session  Pageviews  Hits\n",
       "ID                                                                                                                                                                                                                                                                                                                                                                                                                                                                                                                                                                                                        \n",
       "82983.0  English  Rhino Africa  2016-01-01 00:20:49           yahoo.com      Website       Assigned      NaN        Luxury   19 06 2016               NaN            NaN         NaN            12     4.0       0.0             0.0                      NaN                    US    Shrewsbury          NaN        NaN         0.0          0.0            0.0    google   organic   tablet     (not provided)                                    (not set)       en-us   United States             354.0         0.0       1.0                      354.0                         3.0        3.0   1.0\n",
       "82984.0  English  Rhino Africa  2016-01-01 00:55:12             att.net      Website       Assigned      NaN      Standard   03 04 2016               NaN            NaN         NaN             6     2.0       0.0             1.0                      NaN                    US     Stratford          NaN        NaN         0.0          0.0            0.0  (direct)    (none)  desktop          (not set)                                    (not set)       en-us   United States            1793.0         1.0       1.0                     1793.0                        20.0       20.0   1.0\n",
       "82985.0  English  Rhino Africa  2016-01-01 04:15:47         sunlife.com      Website       Assigned      NaN        Luxury   22 07 2016               NaN            NaN         NaN            15     2.0       0.0             0.0                      NaN                   NaN           NaN          NaN        NaN         0.0          0.0            0.0  (direct)    (none)  desktop          (not set)                                    (not set)       en-us          Canada            1867.0         0.0       1.0                     1867.0                        31.0       31.0   1.0\n",
       "20854.0  English     Londolozi  2016-01-01 05:27:56           gmail.com      Website       Assigned      NaN           NaN   18 07 2016               NaN            NaN         NaN    3-4 nights     2.0       2.0             NaN                      NaN                    PH       Calamba          NaN        NaN         0.0          0.0            0.0    google       cpc  desktop  www.londolozi.com  [a:LON][c:GBR][l:EN][n:GSN][g:Brand][t:www]       en-us  United Kingdom             293.0         1.0       1.0                      283.0                         6.0        6.0   1.0\n",
       "20855.0  English     Londolozi  2016-01-01 05:27:56           gmail.com      Website       Assigned      NaN           NaN   18 07 2016               NaN            NaN         NaN    3-4 nights     2.0       2.0             NaN                      NaN                    PH       Calamba          NaN        NaN         0.0          0.0            0.0    google   organic  desktop     (not provided)                                    (not set)       en-us   United States            2858.0         1.0       1.0                      283.0                         6.0        6.0   1.0"
      ]
     },
     "execution_count": 13,
     "metadata": {},
     "output_type": "execute_result"
    }
   ],
   "source": [
    "df.head()"
   ]
  },
  {
   "cell_type": "code",
   "execution_count": 14,
   "metadata": {},
   "outputs": [],
   "source": [
    "# modify data types and unify data type for every column"
   ]
  },
  {
   "cell_type": "code",
   "execution_count": 15,
   "metadata": {},
   "outputs": [],
   "source": [
    "# column \"Click path\", remove the strings that have no semantic value, such as 'url','www','<li>'\n",
    "# convert all text to lowercase\n",
    "\n",
    "df['Click path'] = df['Click path'].str.replace('url',' ').str.replace('http',' ').str.replace(\n",
    "    'www',' ').str.replace('com',' ').str.replace('<ol>',' ').str.replace('</ol>',' ').str.replace(\n",
    "    '<li>',' ').str.replace('</li>',' ').str.replace('s://',' ').str.strip()"
   ]
  },
  {
   "cell_type": "code",
   "execution_count": 16,
   "metadata": {},
   "outputs": [],
   "source": [
    "# convert all text to lowercase\n",
    "df['Click path'] = df['Click path'].str.lower()"
   ]
  },
  {
   "cell_type": "code",
   "execution_count": null,
   "metadata": {},
   "outputs": [],
   "source": []
  },
  {
   "cell_type": "code",
   "execution_count": 17,
   "metadata": {},
   "outputs": [],
   "source": [
    "# column \"created\", change the data type to datetime64[ns]\n",
    "# then create a new column specifying month of enquiry submission\n",
    "\n",
    "df['created'] = pd.to_datetime(df['created'])\n",
    "df['Created month'] = df['created'].dt.month_name()"
   ]
  },
  {
   "cell_type": "code",
   "execution_count": 18,
   "metadata": {},
   "outputs": [
    {
     "data": {
      "text/plain": [
       "(111716, 39)"
      ]
     },
     "execution_count": 18,
     "metadata": {},
     "output_type": "execute_result"
    }
   ],
   "source": [
    "df.shape"
   ]
  },
  {
   "cell_type": "code",
   "execution_count": 19,
   "metadata": {},
   "outputs": [],
   "source": [
    "# column \"Arrival date\", \"Departure date\", change data type to datetime64[ns]\n",
    "\n",
    "df['Arrival date'] = pd.to_datetime(df['Arrival date'], dayfirst = True,errors = 'coerce')\n",
    "df['Departure date'] = pd.to_datetime(df['Departure date'], dayfirst = True,errors = 'coerce')"
   ]
  },
  {
   "cell_type": "code",
   "execution_count": 20,
   "metadata": {},
   "outputs": [],
   "source": [
    "# Create a column \"Created to arrival\" that contains the time difference between \"Created\" and \"Arrival date\"\n",
    "\n",
    "df[\"Created to arrival\"] = df['Arrival date'].subtract(df['created'])/np.timedelta64(1,'D')"
   ]
  },
  {
   "cell_type": "code",
   "execution_count": 21,
   "metadata": {},
   "outputs": [
    {
     "data": {
      "text/plain": [
       "27038"
      ]
     },
     "execution_count": 21,
     "metadata": {},
     "output_type": "execute_result"
    }
   ],
   "source": [
    "# There are some rows that have no \"Arrival date\" value but have \"Arrival date text\" and \"created\" values\n",
    "# Now we can try calculate more values for \"Created to arrival\" by subtracting \"created\" from a cleaned version of \"Arrival date text\"\n",
    "\n",
    "df[(df['Arrival date'].isnull()) & (df['Arrival date text'].notnull()) & (df['created'].notnull())].shape[0]"
   ]
  },
  {
   "cell_type": "code",
   "execution_count": 22,
   "metadata": {},
   "outputs": [
    {
     "data": {
      "text/plain": [
       "False    85257\n",
       "True     26459\n",
       "Name: Arrival date text, dtype: int64"
      ]
     },
     "execution_count": 22,
     "metadata": {},
     "output_type": "execute_result"
    }
   ],
   "source": [
    "pd.to_datetime(df['Arrival date text'], format='%b %y',errors = 'coerce').notnull().value_counts()"
   ]
  },
  {
   "cell_type": "code",
   "execution_count": 23,
   "metadata": {},
   "outputs": [],
   "source": [
    "# Since 26459 out of 27038 of the values in \"Arrival date text\" are in qualified \"month-abbrev two-digit-year\" format\n",
    "# We will drop all of the rest disqualified values and change this column into a datetime 64 datatype\n",
    "\n",
    "df['Arrival date text'] = pd.to_datetime(df['Arrival date text'], format='%b %y',errors = 'coerce')"
   ]
  },
  {
   "cell_type": "code",
   "execution_count": 24,
   "metadata": {},
   "outputs": [
    {
     "data": {
      "text/plain": [
       "(26429, 40)"
      ]
     },
     "execution_count": 24,
     "metadata": {},
     "output_type": "execute_result"
    }
   ],
   "source": [
    "useful_adt_rows = (df['Created to arrival'].isnull()) & (df['Arrival date text'].notnull()) & (df['created'].notnull())\n",
    "df.loc[useful_adt_rows].shape"
   ]
  },
  {
   "cell_type": "code",
   "execution_count": 25,
   "metadata": {},
   "outputs": [],
   "source": [
    "# There are 26429 rows that dont have \"Created to arrival\" yet have \"Arrival date text\" and \"created\"\n",
    "# So we'll calculate the time difference for these rows and fill in the \"Created to arrival\" column\n",
    "\n",
    "df.loc[useful_adt_rows,'Created to arrival'\n",
    "      ] = df['Arrival date text'].subtract(df['created'])/np.timedelta64(1,'D')"
   ]
  },
  {
   "cell_type": "code",
   "execution_count": 26,
   "metadata": {},
   "outputs": [
    {
     "data": {
      "text/plain": [
       "True     106330\n",
       "False      5386\n",
       "Name: Created to arrival, dtype: int64"
      ]
     },
     "execution_count": 26,
     "metadata": {},
     "output_type": "execute_result"
    }
   ],
   "source": [
    "df['Created to arrival'].notnull().value_counts()"
   ]
  },
  {
   "cell_type": "code",
   "execution_count": 27,
   "metadata": {},
   "outputs": [
    {
     "data": {
      "text/plain": [
       "False    108875\n",
       "True       2841\n",
       "Name: Created to arrival, dtype: int64"
      ]
     },
     "execution_count": 27,
     "metadata": {},
     "output_type": "execute_result"
    }
   ],
   "source": [
    "(df['Created to arrival'] <0).value_counts()"
   ]
  },
  {
   "cell_type": "code",
   "execution_count": 28,
   "metadata": {},
   "outputs": [
    {
     "data": {
      "text/plain": [
       "False    111716\n",
       "Name: Created to arrival, dtype: int64"
      ]
     },
     "execution_count": 28,
     "metadata": {},
     "output_type": "execute_result"
    }
   ],
   "source": [
    "# some time differences are negative numbers, which make the 'Arrival date','Departure date' data invalid \n",
    "# so we need to drop 'Arrival date','Departure date','Created to arrival' data for rows with negative time difference\n",
    "\n",
    "df.loc[df['Created to arrival'] < 0,['Arrival date','Departure date','Created to arrival']] = np.nan\n",
    "(df['Created to arrival'] <0).value_counts()"
   ]
  },
  {
   "cell_type": "code",
   "execution_count": 29,
   "metadata": {},
   "outputs": [
    {
     "data": {
      "text/plain": [
       "(111716, 39)"
      ]
     },
     "execution_count": 29,
     "metadata": {},
     "output_type": "execute_result"
    }
   ],
   "source": [
    "# now we can drop the column \"created\"\n",
    "\n",
    "df = df.drop(columns = 'created')\n",
    "df.shape"
   ]
  },
  {
   "cell_type": "code",
   "execution_count": null,
   "metadata": {},
   "outputs": [],
   "source": []
  },
  {
   "cell_type": "code",
   "execution_count": 30,
   "metadata": {},
   "outputs": [
    {
     "data": {
      "text/plain": [
       "258"
      ]
     },
     "execution_count": 30,
     "metadata": {},
     "output_type": "execute_result"
    }
   ],
   "source": [
    "#There are 258 rows that have filled \"Arrival date\" and \"Departure date\" but dont have \"Num nights\" \n",
    "#(which is supposed to be Departure date minus arrival date)\n",
    "\n",
    "df[(df['Num nights'].isnull()) & (df['Arrival date'].notnull()) & (df['Departure date'].notnull())].shape[0]"
   ]
  },
  {
   "cell_type": "code",
   "execution_count": 31,
   "metadata": {},
   "outputs": [
    {
     "data": {
      "text/plain": [
       "True    258\n",
       "dtype: int64"
      ]
     },
     "execution_count": 31,
     "metadata": {},
     "output_type": "execute_result"
    }
   ],
   "source": [
    "# check if it's because the Arrival date is somehow the same as or after departure date, which makes them invalid data\n",
    "\n",
    "check_diff = (df.loc[(df['Num nights'].isnull()) & (df['Arrival date'].notnull()) & \n",
    "       (df['Departure date'].notnull())]['Departure date'] - df.loc[(\n",
    "    df['Num nights'].isnull()) & (df['Arrival date'].notnull()) & \n",
    "       (df['Departure date'].notnull())]['Arrival date'])/np.timedelta64(1,'D')\n",
    "(check_diff <= 0 ).value_counts()"
   ]
  },
  {
   "cell_type": "code",
   "execution_count": 32,
   "metadata": {},
   "outputs": [
    {
     "data": {
      "text/plain": [
       "(0, 39)"
      ]
     },
     "execution_count": 32,
     "metadata": {},
     "output_type": "execute_result"
    }
   ],
   "source": [
    "# There are also no extra \"Arrival date text\" information that can help us calculate \n",
    "# the time difference between arrival and departure\n",
    "\n",
    "df[(df['Arrival date text'].notnull()) & (df['Arrival date'].isnull()) & (df['Departure date'].notnull())].shape"
   ]
  },
  {
   "cell_type": "code",
   "execution_count": 33,
   "metadata": {},
   "outputs": [],
   "source": [
    "# plus all of the rows that both have arrival and departure dates have a calculated, postitive \"Num night\" vlaue, \n",
    "# we can now drop the columns \"Arrival date\",\"Arrival date text\", and \"Departure date\"\n",
    "\n",
    "df = df.drop(columns= ['Arrival date','Arrival date text','Departure date'])"
   ]
  },
  {
   "cell_type": "code",
   "execution_count": null,
   "metadata": {},
   "outputs": [],
   "source": []
  },
  {
   "cell_type": "code",
   "execution_count": 34,
   "metadata": {},
   "outputs": [
    {
     "data": {
      "text/plain": [
       "(55818, 36)"
      ]
     },
     "execution_count": 34,
     "metadata": {},
     "output_type": "execute_result"
    }
   ],
   "source": [
    "# column \"Stay duration\" may help us fill in more null values for \"Num nights\"\n",
    "\n",
    "df[(df['Stay duration'].notnull()) & (df['Num nights'].isnull())].shape"
   ]
  },
  {
   "cell_type": "code",
   "execution_count": 35,
   "metadata": {},
   "outputs": [
    {
     "data": {
      "text/plain": [
       "False    71687\n",
       "True     33546\n",
       "Name: Stay duration, dtype: int64"
      ]
     },
     "execution_count": 35,
     "metadata": {},
     "output_type": "execute_result"
    }
   ],
   "source": [
    "# 33546 out of the 55818 valuable rows of \"Stay duration\" are numbers\n",
    "# so we can change these to float type and fill them into \"Num nights\" column correspondingly\n",
    "\n",
    "df['Stay duration'].str.isnumeric().value_counts()"
   ]
  },
  {
   "cell_type": "code",
   "execution_count": 36,
   "metadata": {},
   "outputs": [],
   "source": [
    "isnumber = df['Stay duration'].str.isnumeric() == True"
   ]
  },
  {
   "cell_type": "code",
   "execution_count": 37,
   "metadata": {},
   "outputs": [],
   "source": [
    "df.loc[isnumber, 'Num nights'] = pd.to_numeric(df.loc[isnumber,'Stay duration'])"
   ]
  },
  {
   "cell_type": "code",
   "execution_count": 38,
   "metadata": {},
   "outputs": [],
   "source": [
    "# For \"Stay duration\", we can fill in nan values for the rows that \n",
    "# have \"Num nights\" value and focus on the rest of the non-empty rows\n",
    "\n",
    "df.loc[(df['Num nights'].notnull()), 'Stay duration'] = np.nan"
   ]
  },
  {
   "cell_type": "code",
   "execution_count": 39,
   "metadata": {},
   "outputs": [
    {
     "data": {
      "text/plain": [
       "ID\n",
       "20854.0    3-4 nights\n",
       "20855.0    3-4 nights\n",
       "20856.0    3-4 nights\n",
       "26825.0    3-4 nights\n",
       "26826.0    3-4 nights\n",
       "Name: Stay duration, dtype: object"
      ]
     },
     "execution_count": 39,
     "metadata": {},
     "output_type": "execute_result"
    }
   ],
   "source": [
    "# A lof of such cells contain strings ending with \"nights\" or \"day\" or \"days day\", so we can strip these strings off\n",
    "\n",
    "df[df['Stay duration'].str.endswith('nights',na=False)]['Stay duration'].head()"
   ]
  },
  {
   "cell_type": "code",
   "execution_count": 40,
   "metadata": {},
   "outputs": [
    {
     "data": {
      "text/plain": [
       "(0, 36)"
      ]
     },
     "execution_count": 40,
     "metadata": {},
     "output_type": "execute_result"
    }
   ],
   "source": [
    "df[df['Stay duration'].str.endswith('days day',na=False)].shape"
   ]
  },
  {
   "cell_type": "code",
   "execution_count": 41,
   "metadata": {},
   "outputs": [
    {
     "data": {
      "text/plain": [
       "(2, 36)"
      ]
     },
     "execution_count": 41,
     "metadata": {},
     "output_type": "execute_result"
    }
   ],
   "source": [
    "df[df['Stay duration'].str.endswith('day',na=False)].shape"
   ]
  },
  {
   "cell_type": "code",
   "execution_count": 42,
   "metadata": {},
   "outputs": [],
   "source": [
    "df['Stay duration'] = df['Stay duration'].str.rstrip(' nights')"
   ]
  },
  {
   "cell_type": "code",
   "execution_count": 43,
   "metadata": {},
   "outputs": [],
   "source": [
    "df['Stay duration'] = df['Stay duration'].str.rstrip(' day')"
   ]
  },
  {
   "cell_type": "code",
   "execution_count": 44,
   "metadata": {},
   "outputs": [],
   "source": [
    "df['Stay duration'] = df['Stay duration'].str.rstrip(' days day')"
   ]
  },
  {
   "cell_type": "code",
   "execution_count": 45,
   "metadata": {},
   "outputs": [
    {
     "data": {
      "text/plain": [
       "(16423, 36)"
      ]
     },
     "execution_count": 45,
     "metadata": {},
     "output_type": "execute_result"
    }
   ],
   "source": [
    "# many cells contains \"-\" to connect the range of two numbers\n",
    "# for these cells, we split the cell based on \"-\", \n",
    "# for those that are split into two strings, we assume they represent the range of the stay duration\n",
    "# and calculate the mean value for this range by first convert them into float\n",
    "\n",
    "df[df['Stay duration'].str.contains('-',na=False)].shape"
   ]
  },
  {
   "cell_type": "code",
   "execution_count": 46,
   "metadata": {},
   "outputs": [],
   "source": [
    "dash = df['Stay duration'].str.contains('-',na=False) == True"
   ]
  },
  {
   "cell_type": "code",
   "execution_count": 47,
   "metadata": {},
   "outputs": [],
   "source": [
    "df['Stay duration'] = df.loc[dash,'Stay duration'].str.split('-')"
   ]
  },
  {
   "cell_type": "code",
   "execution_count": 48,
   "metadata": {},
   "outputs": [],
   "source": [
    "def avehelper(x):\n",
    "    if type(x) == list:\n",
    "        if len(x) ==2:\n",
    "            if x[0].strip().isdigit() and x[1].strip().isdigit():\n",
    "                return 1\n",
    "        return x"
   ]
  },
  {
   "cell_type": "code",
   "execution_count": 49,
   "metadata": {},
   "outputs": [
    {
     "data": {
      "text/plain": [
       "(16223, 36)"
      ]
     },
     "execution_count": 49,
     "metadata": {},
     "output_type": "execute_result"
    }
   ],
   "source": [
    "qualified_helper = df['Stay duration'].apply(avehelper) == 1\n",
    "df.loc[qualified_helper].shape"
   ]
  },
  {
   "cell_type": "code",
   "execution_count": 50,
   "metadata": {},
   "outputs": [],
   "source": [
    "df.loc[qualified_helper,'Num nights'] = df.loc[qualified_helper]['Stay duration'].apply(\n",
    "    lambda x: (int(x[1].strip()) - int(x[0].strip()))/2)"
   ]
  },
  {
   "cell_type": "code",
   "execution_count": 51,
   "metadata": {},
   "outputs": [],
   "source": [
    "# delete the values that we just used to fill in \"Num nights\"\n",
    "\n",
    "df.loc[qualified_helper,'Stay duration'] = np.nan"
   ]
  },
  {
   "cell_type": "code",
   "execution_count": 52,
   "metadata": {},
   "outputs": [
    {
     "data": {
      "text/plain": [
       "(200, 36)"
      ]
     },
     "execution_count": 52,
     "metadata": {},
     "output_type": "execute_result"
    }
   ],
   "source": [
    "# These 200 rows left are in very messy format, therefore we drop these values\n",
    "\n",
    "df[df['Stay duration'].notnull()].shape"
   ]
  },
  {
   "cell_type": "code",
   "execution_count": 53,
   "metadata": {},
   "outputs": [],
   "source": [
    "# now we can drop the column \"Stay duration\"\n",
    "\n",
    "df = df.drop(columns = 'Stay duration')"
   ]
  },
  {
   "cell_type": "code",
   "execution_count": null,
   "metadata": {},
   "outputs": [],
   "source": []
  },
  {
   "cell_type": "code",
   "execution_count": 54,
   "metadata": {},
   "outputs": [],
   "source": [
    "# column \"Budget value\", current data type is object\n",
    "# some rows contain numbers but are in string format, we need to change them to float\n",
    "# there are also  some rows that are not numbers, we need to change these values to NaN\n",
    "def is_number(s):\n",
    "    try:\n",
    "        float(s)\n",
    "        return True\n",
    "    except ValueError:\n",
    "        return False\n",
    "\n",
    "isnum = ((df['Budget value'].apply(type) == str) & (df['Budget value'].apply(is_number)== True))\n",
    "notnum = ((df['Budget value'].apply(type) == str) & (df['Budget value'].apply(is_number)== False))\n",
    "df.loc[isnum ,'Budget value'] = pd.to_numeric(df.loc[isnum,'Budget value'])\n",
    "df.loc[notnum ,'Budget value'] = np.NaN\n",
    "\n",
    "# There are some rows that have budget value of 0. We assume that it's non applicable and set them to NaN\n",
    "df.loc[df['Budget value'] == 0, 'Budget value'] = np.nan\n",
    "\n",
    "# there are also some rows that have budget value but no currency specified. We need to change these budget values to NaN\n",
    "df.loc[(df['Budget value'].notnull()) & (df['Currency'].isnull()), 'Budget value'] = np.nan\n"
   ]
  },
  {
   "cell_type": "code",
   "execution_count": 55,
   "metadata": {},
   "outputs": [],
   "source": [
    "df['Currency'] = df['Currency'].str.upper()"
   ]
  },
  {
   "cell_type": "code",
   "execution_count": 56,
   "metadata": {},
   "outputs": [
    {
     "name": "stdout",
     "output_type": "stream",
     "text": [
      "wait 61 sec\n",
      "continue running\n"
     ]
    }
   ],
   "source": [
    "# We are using an API, Alpha Vantage, to get realtime currency exchange rates\n",
    "# Since it only supports 5 requests every one minute, we do it in two parts and wait 61 seconds in between\n",
    "\n",
    "import os\n",
    "import pandas_datareader.data as web\n",
    "import time \n",
    "\n",
    "currency_part1 = web.DataReader([\"USD/EUR\",\"USD/GBP\",\"USD/ZAR\"], \"av-forex\", \n",
    "                    access_key= 'A8MBHNJSQGBPPBEX')\n",
    "print('wait 61 sec')\n",
    "time.sleep(61)\n",
    "print('continue running')\n",
    "\n",
    "currency_part2 = web.DataReader([\"USD/BRL\",\"USD/AUD\",\"USD/CAD\",\"USD/CHF\"], \"av-forex\", \n",
    "                    access_key= 'A8MBHNJSQGBPPBEX')\n",
    "\n",
    "currency_dataframe = pd.concat([currency_part1,currency_part2],axis = 1)"
   ]
  },
  {
   "cell_type": "code",
   "execution_count": 57,
   "metadata": {},
   "outputs": [],
   "source": [
    "currency_dataframe.loc['Exchange Rate'] = pd.to_numeric(currency_dataframe.loc['Exchange Rate'])"
   ]
  },
  {
   "cell_type": "code",
   "execution_count": 58,
   "metadata": {},
   "outputs": [],
   "source": [
    "currency_dataframe.columns = currency_dataframe.columns.str.lstrip('USD/')"
   ]
  },
  {
   "cell_type": "code",
   "execution_count": 59,
   "metadata": {},
   "outputs": [
    {
     "data": {
      "text/plain": [
       "{'EUR': 0.886,\n",
       " 'GBP': 0.7948,\n",
       " 'ZAR': 13.974,\n",
       " 'BRL': 3.8261,\n",
       " 'AUD': 1.4244,\n",
       " 'CAD': 1.3074,\n",
       " 'CHF': 0.9856,\n",
       " 'USD': 1}"
      ]
     },
     "execution_count": 59,
     "metadata": {},
     "output_type": "execute_result"
    }
   ],
   "source": [
    "currency_dict = currency_dataframe.loc['Exchange Rate'].to_dict()\n",
    "currency_dict['USD'] = 1\n",
    "currency_dict"
   ]
  },
  {
   "cell_type": "code",
   "execution_count": 60,
   "metadata": {},
   "outputs": [],
   "source": [
    "df['Currency'] = df['Currency'].map(currency_dict)"
   ]
  },
  {
   "cell_type": "code",
   "execution_count": 61,
   "metadata": {},
   "outputs": [],
   "source": [
    "# Calculate the \"Budget value\" in US Dollars by multiplying its original value with the excahnge rate in \"Currency\" column\n",
    "\n",
    "df.loc[(df['Currency'].notnull()) & (df['Currency'] != 1),\n",
    "       'Budget value'] = df['Budget value'] / df['Currency']\n"
   ]
  },
  {
   "cell_type": "code",
   "execution_count": 62,
   "metadata": {},
   "outputs": [],
   "source": [
    "df = df.round({'Budget value':1})"
   ]
  },
  {
   "cell_type": "code",
   "execution_count": 63,
   "metadata": {},
   "outputs": [
    {
     "data": {
      "text/plain": [
       "False    100162\n",
       "True      11554\n",
       "Name: Budget value, dtype: int64"
      ]
     },
     "execution_count": 63,
     "metadata": {},
     "output_type": "execute_result"
    }
   ],
   "source": [
    "df['Budget value'].notnull().value_counts()"
   ]
  },
  {
   "cell_type": "code",
   "execution_count": 64,
   "metadata": {},
   "outputs": [],
   "source": [
    "# now we can drop the \"Currency\" column\n",
    "\n",
    "df = df.drop(columns = 'Currency')"
   ]
  },
  {
   "cell_type": "code",
   "execution_count": 65,
   "metadata": {},
   "outputs": [
    {
     "data": {
      "text/plain": [
       "True     55985\n",
       "False    55731\n",
       "Name: Client budget, dtype: int64"
      ]
     },
     "execution_count": 65,
     "metadata": {},
     "output_type": "execute_result"
    }
   ],
   "source": [
    "df['Client budget'].notnull().value_counts()"
   ]
  },
  {
   "cell_type": "code",
   "execution_count": 66,
   "metadata": {},
   "outputs": [
    {
     "data": {
      "text/plain": [
       "Standard    37834\n",
       "Luxury      12725\n",
       "Value        5426\n",
       "Name: Client budget, dtype: int64"
      ]
     },
     "execution_count": 66,
     "metadata": {},
     "output_type": "execute_result"
    }
   ],
   "source": [
    "df['Client budget'].value_counts()"
   ]
  },
  {
   "cell_type": "code",
   "execution_count": 67,
   "metadata": {},
   "outputs": [
    {
     "data": {
      "text/plain": [
       "(0, 34)"
      ]
     },
     "execution_count": 67,
     "metadata": {},
     "output_type": "execute_result"
    }
   ],
   "source": [
    "df[(df['Client budget'].notnull()) & (df['Budget value'].notnull())].shape"
   ]
  },
  {
   "cell_type": "code",
   "execution_count": 68,
   "metadata": {},
   "outputs": [
    {
     "data": {
      "text/plain": [
       "count     11554.000000\n",
       "unique      895.000000\n",
       "top        3386.004515\n",
       "freq        755.000000\n",
       "Name: Budget value, dtype: float64"
      ]
     },
     "execution_count": 68,
     "metadata": {},
     "output_type": "execute_result"
    }
   ],
   "source": [
    "df['Budget value'].describe()"
   ]
  },
  {
   "cell_type": "code",
   "execution_count": null,
   "metadata": {},
   "outputs": [],
   "source": []
  },
  {
   "cell_type": "code",
   "execution_count": 69,
   "metadata": {},
   "outputs": [
    {
     "data": {
      "text/plain": [
       "(11554, 34)"
      ]
     },
     "execution_count": 69,
     "metadata": {},
     "output_type": "execute_result"
    }
   ],
   "source": [
    "# column \"Budget value\" use variable grouping group them into 3 categories \"Luxury\",\"Standard\", and \"Value\" \n",
    "# based on the distribution of \"Luxury\",\"Standard\", and \"Value\" in column \"Client budget\"\n",
    "# then we cobime columns \"Client budget\" with \"Budget value\" \n",
    "\n",
    "df[(df['Client budget'].isnull()) & (df['Budget value'].notnull())].shape"
   ]
  },
  {
   "cell_type": "code",
   "execution_count": 70,
   "metadata": {},
   "outputs": [
    {
     "data": {
      "text/plain": [
       "False    100162\n",
       "True      11554\n",
       "Name: Budget value, dtype: int64"
      ]
     },
     "execution_count": 70,
     "metadata": {},
     "output_type": "execute_result"
    }
   ],
   "source": [
    "df['Budget value'].notnull().value_counts()"
   ]
  },
  {
   "cell_type": "code",
   "execution_count": 71,
   "metadata": {},
   "outputs": [
    {
     "data": {
      "text/plain": [
       "Standard    0.675788\n",
       "Luxury      0.227293\n",
       "Value       0.096919\n",
       "Name: Client budget, dtype: float64"
      ]
     },
     "execution_count": 71,
     "metadata": {},
     "output_type": "execute_result"
    }
   ],
   "source": [
    "# distribution of \"Luxury\",\"Standard\", and \"Value\" in column \"Client budget\"\n",
    "\n",
    "(df['Client budget'].value_counts())/(df[df['Client budget'].notnull()].shape)[0]"
   ]
  },
  {
   "cell_type": "code",
   "execution_count": 72,
   "metadata": {},
   "outputs": [
    {
     "data": {
      "text/plain": [
       "[0, 0.09691881754041261, 0.7727069750826114, 1]"
      ]
     },
     "execution_count": 72,
     "metadata": {},
     "output_type": "execute_result"
    }
   ],
   "source": [
    "budget_dis = (df['Client budget'].value_counts())/(df[df['Client budget'].notnull()].shape)[0]\n",
    "budget_cumu_dis = [0,budget_dis['Value'],budget_dis['Value'] + budget_dis['Standard'],1]\n",
    "budget_cumu_dis"
   ]
  },
  {
   "cell_type": "code",
   "execution_count": 73,
   "metadata": {},
   "outputs": [
    {
     "data": {
      "text/plain": [
       "True     55985\n",
       "False    55731\n",
       "Name: Client budget, dtype: int64"
      ]
     },
     "execution_count": 73,
     "metadata": {},
     "output_type": "execute_result"
    }
   ],
   "source": [
    "df['Client budget'].notnull().value_counts()"
   ]
  },
  {
   "cell_type": "code",
   "execution_count": 74,
   "metadata": {},
   "outputs": [],
   "source": [
    "df.loc[df['Client budget'].isnull(),'Client budget'] = pd.qcut(\n",
    "    df['Budget value'], budget_cumu_dis, labels = ['Value','Standard','Luxury'])\n"
   ]
  },
  {
   "cell_type": "code",
   "execution_count": 75,
   "metadata": {},
   "outputs": [
    {
     "data": {
      "text/plain": [
       "True     67539\n",
       "False    44177\n",
       "Name: Client budget, dtype: int64"
      ]
     },
     "execution_count": 75,
     "metadata": {},
     "output_type": "execute_result"
    }
   ],
   "source": [
    "df['Client budget'].notnull().value_counts()"
   ]
  },
  {
   "cell_type": "code",
   "execution_count": 76,
   "metadata": {},
   "outputs": [],
   "source": [
    "# now we can drop the column \"Budget value\"\n",
    "\n",
    "df = df.drop(columns = 'Budget value')"
   ]
  },
  {
   "cell_type": "code",
   "execution_count": null,
   "metadata": {},
   "outputs": [],
   "source": []
  },
  {
   "cell_type": "code",
   "execution_count": 77,
   "metadata": {},
   "outputs": [
    {
     "data": {
      "text/plain": [
       "True     69933\n",
       "False    41783\n",
       "Name: Residential country code, dtype: int64"
      ]
     },
     "execution_count": 77,
     "metadata": {},
     "output_type": "execute_result"
    }
   ],
   "source": [
    "# column \"Residential country code\", \"Detected country code\"\n",
    "\n",
    "df['Residential country code'].notnull().value_counts()"
   ]
  },
  {
   "cell_type": "code",
   "execution_count": 78,
   "metadata": {},
   "outputs": [
    {
     "data": {
      "text/plain": [
       "True     67150\n",
       "False    44566\n",
       "Name: Detected country code, dtype: int64"
      ]
     },
     "execution_count": 78,
     "metadata": {},
     "output_type": "execute_result"
    }
   ],
   "source": [
    "df['Detected country code'].notnull().value_counts()"
   ]
  },
  {
   "cell_type": "code",
   "execution_count": 79,
   "metadata": {},
   "outputs": [
    {
     "data": {
      "text/plain": [
       "(222, 33)"
      ]
     },
     "execution_count": 79,
     "metadata": {},
     "output_type": "execute_result"
    }
   ],
   "source": [
    "# There are 222 rows whose Detected country code is different from Residential country code\n",
    "# We assume that the Residential country code is incorrect (for example, for those whose detected city are in California.\n",
    "# the residential code is CA, which makes the residential code less credible)\n",
    "# Therefore, we combine the two columns and prefer the \"Detected country code\" when the two column values conflict\n",
    "\n",
    "df.loc[(df['Detected country code'].notnull()) & (df['Residential country code'].notnull()) & \n",
    "      (df['Detected country code'] != df['Residential country code'])].shape"
   ]
  },
  {
   "cell_type": "code",
   "execution_count": 80,
   "metadata": {},
   "outputs": [],
   "source": [
    "df.loc[(df['Detected country code'].isnull()) & (df['Residential country code'].notnull()),\n",
    "       'Detected country code'] = df['Residential country code']"
   ]
  },
  {
   "cell_type": "code",
   "execution_count": 81,
   "metadata": {},
   "outputs": [
    {
     "data": {
      "text/plain": [
       "True     104470\n",
       "False      7246\n",
       "Name: Detected country code, dtype: int64"
      ]
     },
     "execution_count": 81,
     "metadata": {},
     "output_type": "execute_result"
    }
   ],
   "source": [
    "df['Detected country code'].notnull().value_counts()"
   ]
  },
  {
   "cell_type": "code",
   "execution_count": 82,
   "metadata": {},
   "outputs": [],
   "source": [
    "# now we can drop \"Residential country code\" column and rename \"Detected country code\" as \"Country code\"\n",
    "\n",
    "df = df.drop(columns = 'Residential country code')\n",
    "df = df.rename({'Detected country code': 'Country code'}, axis=1)"
   ]
  },
  {
   "cell_type": "code",
   "execution_count": null,
   "metadata": {},
   "outputs": [],
   "source": []
  },
  {
   "cell_type": "code",
   "execution_count": 83,
   "metadata": {},
   "outputs": [],
   "source": [
    "# \"GA campaign\" column has \"(not set)\" values, \n",
    "# which should be replaced by None\n",
    "\n",
    "df.loc[df['GA campaign'] == \"(not set)\",'GA campaign'] = None\n"
   ]
  },
  {
   "cell_type": "code",
   "execution_count": 84,
   "metadata": {},
   "outputs": [],
   "source": [
    "# convert all text to lower case\n",
    "\n",
    "df['GA campaign'] = df['GA campaign'].str.lower()"
   ]
  },
  {
   "cell_type": "code",
   "execution_count": 85,
   "metadata": {},
   "outputs": [],
   "source": [
    "df['GA campaign'] = df['GA campaign'].fillna('None').astype('U').values"
   ]
  },
  {
   "cell_type": "code",
   "execution_count": null,
   "metadata": {},
   "outputs": [],
   "source": []
  },
  {
   "cell_type": "code",
   "execution_count": 86,
   "metadata": {},
   "outputs": [],
   "source": [
    "# \"GA keyword\" column has \"(not set)\" and \"(not provided)\" values, \n",
    "# which should be replaced by None\n",
    "\n",
    "df.loc[df['GA keyword'] == \"(not set)\",'GA keyword'] = None\n",
    "df.loc[df['GA keyword'] == \"(not provided)\",'GA keyword'] = None"
   ]
  },
  {
   "cell_type": "code",
   "execution_count": 87,
   "metadata": {},
   "outputs": [],
   "source": [
    "# convert all text to lower case\n",
    "\n",
    "df['GA keyword'] = df['GA keyword'].str.lower()"
   ]
  },
  {
   "cell_type": "code",
   "execution_count": 88,
   "metadata": {},
   "outputs": [],
   "source": [
    "df['GA keyword'] = df['GA keyword'].fillna('None').astype('U').values"
   ]
  },
  {
   "cell_type": "code",
   "execution_count": null,
   "metadata": {},
   "outputs": [],
   "source": []
  },
  {
   "cell_type": "code",
   "execution_count": 89,
   "metadata": {},
   "outputs": [],
   "source": [
    "# 'Client email domain' convert texts to lower case"
   ]
  },
  {
   "cell_type": "code",
   "execution_count": 90,
   "metadata": {},
   "outputs": [],
   "source": [
    "df['Client email domain'] = df['Client email domain'].str.lower()"
   ]
  },
  {
   "cell_type": "code",
   "execution_count": null,
   "metadata": {},
   "outputs": [],
   "source": []
  },
  {
   "cell_type": "code",
   "execution_count": 91,
   "metadata": {},
   "outputs": [],
   "source": [
    "# 'GA source' convert text data to lower case\n",
    "# strip words like 'com', 'net' that have no semantic value"
   ]
  },
  {
   "cell_type": "code",
   "execution_count": 92,
   "metadata": {},
   "outputs": [],
   "source": [
    "df['GA source'] = df['GA source'].str.lower()"
   ]
  },
  {
   "cell_type": "code",
   "execution_count": null,
   "metadata": {},
   "outputs": [],
   "source": []
  },
  {
   "cell_type": "code",
   "execution_count": 93,
   "metadata": {},
   "outputs": [],
   "source": [
    "# delete the rows where \"is booking\" is neither 1 or 0"
   ]
  },
  {
   "cell_type": "code",
   "execution_count": 94,
   "metadata": {},
   "outputs": [
    {
     "data": {
      "text/plain": [
       "0.00       100638\n",
       "1.00        11076\n",
       "826.00          1\n",
       "4306.45         1\n",
       "Name: is booking, dtype: int64"
      ]
     },
     "execution_count": 94,
     "metadata": {},
     "output_type": "execute_result"
    }
   ],
   "source": [
    "df['is booking'].value_counts()"
   ]
  },
  {
   "cell_type": "code",
   "execution_count": 95,
   "metadata": {},
   "outputs": [],
   "source": [
    "df = df.drop(df[(df['is booking'] != 0)&(df['is booking'] != 1)].index)"
   ]
  },
  {
   "cell_type": "code",
   "execution_count": 96,
   "metadata": {},
   "outputs": [],
   "source": [
    "df['is booking'] = df['is booking'].astype('category')"
   ]
  },
  {
   "cell_type": "code",
   "execution_count": 97,
   "metadata": {},
   "outputs": [],
   "source": [
    "# Since \"GA language\" has the same meaning as \"Language\", and \"Language\" column fewer empty rows\n",
    "# We will drop \"GA language\" column\n",
    "\n",
    "df = df.drop(columns = 'GA language')"
   ]
  },
  {
   "cell_type": "code",
   "execution_count": 98,
   "metadata": {},
   "outputs": [],
   "source": [
    "# Since \"GA country\" has the same meaning as \"Country code\", and \"Country code\" column fewer empty rows\n",
    "# We will drop \"GA country\" column\n",
    "\n",
    "df = df.drop(columns = 'GA country')"
   ]
  },
  {
   "cell_type": "code",
   "execution_count": 99,
   "metadata": {},
   "outputs": [
    {
     "data": {
      "text/plain": [
       "(111714, 30)"
      ]
     },
     "execution_count": 99,
     "metadata": {},
     "output_type": "execute_result"
    }
   ],
   "source": [
    "df.shape"
   ]
  },
  {
   "cell_type": "code",
   "execution_count": 100,
   "metadata": {},
   "outputs": [],
   "source": [
    "# The model testing shows that dropping the column \"Detected city\", \"Client email domain\", and \"GA campaign\" will lead to a higher metric\n",
    "# so we drop the column \"Detected city\", \"Client email domain\", and \"GA campaign\" \n",
    "\n",
    "df = df.drop(columns = ['Detected city','Client email domain', 'GA campaign'])\n",
    "\n"
   ]
  },
  {
   "cell_type": "code",
   "execution_count": 101,
   "metadata": {},
   "outputs": [
    {
     "data": {
      "text/plain": [
       "(111714, 27)"
      ]
     },
     "execution_count": 101,
     "metadata": {},
     "output_type": "execute_result"
    }
   ],
   "source": [
    "df.shape"
   ]
  },
  {
   "cell_type": "code",
   "execution_count": 102,
   "metadata": {},
   "outputs": [
    {
     "name": "stdout",
     "output_type": "stream",
     "text": [
      "<class 'pandas.core.frame.DataFrame'>\n",
      "Float64Index: 111714 entries, 82983.0 to 167798.0\n",
      "Data columns (total 27 columns):\n",
      "Language                      111714 non-null object\n",
      "Website                       111714 non-null object\n",
      "Enquiry type                  111714 non-null object\n",
      "Enquiry status                111714 non-null object\n",
      "Client budget                 67537 non-null object\n",
      "Num nights                    94734 non-null float64\n",
      "Adults                        111312 non-null float64\n",
      "Children                      111714 non-null float64\n",
      "Flights booked                91512 non-null float64\n",
      "Country code                  104468 non-null object\n",
      "Click path                    76471 non-null object\n",
      "User agent                    111714 non-null float64\n",
      "User repeat                   111714 non-null float64\n",
      "User referral                 111714 non-null float64\n",
      "GA source                     88753 non-null object\n",
      "GA medium                     88753 non-null object\n",
      "Device                        88759 non-null object\n",
      "GA keyword                    111714 non-null object\n",
      "Session duration              88758 non-null float64\n",
      "is booking                    111714 non-null category\n",
      "Sessions                      86378 non-null float64\n",
      "Avg. session length (sec)     86378 non-null float64\n",
      "Avg. pageviews per session    86378 non-null float64\n",
      "Pageviews                     86378 non-null float64\n",
      "Hits                          86378 non-null float64\n",
      "Created month                 111714 non-null object\n",
      "Created to arrival            103487 non-null float64\n",
      "dtypes: category(1), float64(14), object(12)\n",
      "memory usage: 23.1+ MB\n"
     ]
    }
   ],
   "source": [
    "df.info()"
   ]
  },
  {
   "cell_type": "code",
   "execution_count": 103,
   "metadata": {},
   "outputs": [],
   "source": [
    "df.to_pickle('data_cleaning4.pkl')"
   ]
  },
  {
   "cell_type": "code",
   "execution_count": null,
   "metadata": {},
   "outputs": [],
   "source": []
  }
 ],
 "metadata": {
  "kernelspec": {
   "display_name": "Python 3",
   "language": "python",
   "name": "python3"
  },
  "language_info": {
   "codemirror_mode": {
    "name": "ipython",
    "version": 3
   },
   "file_extension": ".py",
   "mimetype": "text/x-python",
   "name": "python",
   "nbconvert_exporter": "python",
   "pygments_lexer": "ipython3",
   "version": "3.7.3"
  }
 },
 "nbformat": 4,
 "nbformat_minor": 2
}
